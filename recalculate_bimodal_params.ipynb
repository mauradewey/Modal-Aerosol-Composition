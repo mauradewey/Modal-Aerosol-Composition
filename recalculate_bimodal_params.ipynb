{
 "cells": [
  {
   "cell_type": "markdown",
   "id": "85336420",
   "metadata": {},
   "source": [
    "Re-calculate bimodal parameters for each CCN_observation window. (We want NSD1_sum and NSD2_sum for each window)"
   ]
  },
  {
   "cell_type": "code",
   "execution_count": 1,
   "id": "67d31ef2",
   "metadata": {},
   "outputs": [],
   "source": [
    "import numpy as np\n",
    "import os\n",
    "import pandas as pd\n"
   ]
  },
  {
   "cell_type": "code",
   "execution_count": 2,
   "id": "5d0633c2",
   "metadata": {},
   "outputs": [],
   "source": [
    "# load data:\n",
    "obs_dir = 'input_data'   \n",
    "\n",
    "bimodal_params = pd.read_csv(os.path.join(obs_dir, 'Bimodal_parameters.csv'))  # Fitted bimodal parameters, which we are recalculating because it does not contain scaled number concentration values.\n",
    "NSD_params_all = pd.read_csv(os.path.join(obs_dir, 'NSD_PARAMS_SCALED.csv'), parse_dates=['datetime'])  # bimodal parameters scaled to aerosol observations at 10min resolution\n",
    "CCN_all = pd.read_csv(os.path.join(obs_dir, 'CCN_all.csv'), parse_dates=['datetime','start_time','end_time'])  # observed CCN data (contains CCN-obs Window information (start and end time), 2hr resolution)"
   ]
  },
  {
   "cell_type": "code",
   "execution_count": 3,
   "id": "ea2bd0a6",
   "metadata": {},
   "outputs": [],
   "source": [
    "# function to calculate the median absolute deviation (MAD):\n",
    "\n",
    "def mad(series):\n",
    "    median = series.median()\n",
    "    return np.median(np.abs(series - median))"
   ]
  },
  {
   "cell_type": "code",
   "execution_count": 19,
   "id": "e0e2aab7",
   "metadata": {},
   "outputs": [],
   "source": [
    "#re-calculate median bimodal parameters for each 2 hr window, with scaled number concentration:\n",
    "\n",
    "NSD_params = NSD_params_all.copy(deep=True)\n",
    "\n",
    "tw_start = CCN_all.loc[CCN_all['datetime']>= '2016-08-16 00:00:00'].reset_index(drop=True)['start_time'] # time window start\n",
    "tw_end = CCN_all.loc[CCN_all['datetime']>= '2016-08-16 00:00:00'].reset_index(drop=True)['end_time'] # time window end\n",
    "tw_mid = CCN_all.loc[CCN_all['datetime']>= '2016-08-16 00:00:00'].reset_index(drop=True)['datetime'] # time window mid\n",
    "window_idx = 0\n",
    "\n",
    "# create mask which identifies which time window parameters belong to:\n",
    "for i in range(len(tw_start)):\n",
    "    mask = (\n",
    "        (NSD_params['datetime'] >= tw_start[i]) &\n",
    "        (NSD_params['datetime'] < tw_end[i])         \n",
    "    )\n",
    "    \n",
    "    if mask.any():\n",
    "        NSD_params.loc[mask, 'CCN_window'] = window_idx # index of the time window, used for grouping\n",
    "        NSD_params.loc[mask, 'datetime'] = tw_mid[i] # assign the mid-point of the time window to the datetime column\n",
    "        window_idx += 1\n",
    "\n",
    "# drop rows with NaN in CCN_window column (no data in that time window):\n",
    "NSD_params = NSD_params.dropna(subset=['CCN_window'])\n",
    "\n",
    "# drop where the datetime does not match original datetimes in bimodal_params:\n",
    "NSD_params = NSD_params[NSD_params['datetime'].isin(pd.to_datetime(bimodal_params['datetime']))].reset_index(drop=True)\n",
    "\n",
    "# THERE IS ONE OBS WINDOW WHERE THE NSD PARAMETERS ARE VERY STRANGE AND RESULT IN UNREALISTIC MASS VALUES:\n",
    "# here we filter these out:\n",
    "NSD_params = NSD_params[~((NSD_params['CCN_window'] == 8564.0) & (NSD_params['mode2_d']>100))]\n",
    "\n",
    "# Take median of parameters within each time window:\n",
    "NSD_params_windows = NSD_params.groupby('CCN_window').median().copy(deep=True).reset_index(drop=True) # take median of parameters within each time window\n",
    "\n",
    "# add columns for max/min/median abs. dev. in each time window:\n",
    "NSD_params_windows['mode1_d_max'] = NSD_params.groupby('CCN_window')['mode1_d'].max().reset_index(drop=True)\n",
    "NSD_params_windows['mode1_d_min'] = NSD_params.groupby('CCN_window')['mode1_d'].min().reset_index(drop=True)\n",
    "NSD_params_windows['mode1_d_mad'] = NSD_params.groupby('CCN_window')['mode1_d'].agg(mad).reset_index(drop=True)\n",
    "NSD_params_windows['mode2_d_max'] = NSD_params.groupby('CCN_window')['mode2_d'].max().reset_index(drop=True)\n",
    "NSD_params_windows['mode2_d_min'] = NSD_params.groupby('CCN_window')['mode2_d'].min().reset_index(drop=True)\n",
    "NSD_params_windows['mode2_d_mad'] = NSD_params.groupby('CCN_window')['mode2_d'].agg(mad).reset_index(drop=True)\n",
    "NSD_params_windows['mode1_NSD_max'] = NSD_params.groupby('CCN_window')['NSD1_sum'].max().reset_index(drop=True)\n",
    "NSD_params_windows['mode1_NSD_min'] = NSD_params.groupby('CCN_window')['NSD1_sum'].min().reset_index(drop=True)\n",
    "NSD_params_windows['mode1_NSD_mad'] = NSD_params.groupby('CCN_window')['NSD1_sum'].agg(mad).reset_index(drop=True)\n",
    "NSD_params_windows['mode2_NSD_max'] = NSD_params.groupby('CCN_window')['NSD2_sum'].max().reset_index(drop=True)\n",
    "NSD_params_windows['mode2_NSD_min'] = NSD_params.groupby('CCN_window')['NSD2_sum'].min().reset_index(drop=True)\n",
    "NSD_params_windows['mode2_NSD_mad'] = NSD_params.groupby('CCN_window')['NSD2_sum'].agg(mad).reset_index(drop=True)\n",
    "\n",
    "# add column for number of measurements in each time window:\n",
    "NSD_params_windows['n_measurements'] = NSD_params.groupby('CCN_window')['mode1_d'].count()\n",
    "\n",
    "# create a unique ID for each time window\n",
    "NSD_params['window_id'] = pd.factorize(NSD_params['CCN_window'])[0]  "
   ]
  },
  {
   "cell_type": "code",
   "execution_count": 21,
   "id": "beeb089e",
   "metadata": {},
   "outputs": [],
   "source": [
    "# save to CSV:\n",
    "NSD_params_windows.to_csv(os.path.join(obs_dir, 'bimodal_params_windows.csv')) \n",
    "\n",
    "NSD_params.to_csv(os.path.join(obs_dir, 'NSD_params_withwindows.csv'))  "
   ]
  },
  {
   "cell_type": "code",
   "execution_count": null,
   "id": "b38a419b",
   "metadata": {},
   "outputs": [],
   "source": []
  }
 ],
 "metadata": {
  "kernelspec": {
   "display_name": "mcmc",
   "language": "python",
   "name": "python3"
  },
  "language_info": {
   "codemirror_mode": {
    "name": "ipython",
    "version": 3
   },
   "file_extension": ".py",
   "mimetype": "text/x-python",
   "name": "python",
   "nbconvert_exporter": "python",
   "pygments_lexer": "ipython3",
   "version": "3.11.11"
  }
 },
 "nbformat": 4,
 "nbformat_minor": 5
}
