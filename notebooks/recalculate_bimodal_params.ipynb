{
 "cells": [
  {
   "cell_type": "markdown",
   "id": "85336420",
   "metadata": {},
   "source": [
    "Re-calculate bimodal parameters for each CCN_observation window. (We want NSD1_sum and NSD2_sum for each window)"
   ]
  },
  {
   "cell_type": "code",
   "execution_count": 1,
   "id": "67d31ef2",
   "metadata": {},
   "outputs": [],
   "source": [
    "import numpy as np\n",
    "import os\n",
    "import pandas as pd\n"
   ]
  },
  {
   "cell_type": "code",
   "execution_count": 2,
   "id": "5d0633c2",
   "metadata": {},
   "outputs": [],
   "source": [
    "# load data:\n",
    "obs_dir = '../input_data'   \n",
    "\n",
    "bimodal_params = pd.read_csv(os.path.join(obs_dir, 'Bimodal_parameters.csv'))  # Fitted bimodal parameters, which we are recalculating because it does not contain scaled number concentration values.\n",
    "NSD_params_all = pd.read_csv(os.path.join(obs_dir, 'NSD_PARAMS_SCALED.CSV'), parse_dates=['datetime'])  # bimodal parameters scaled to aerosol observations at 10min resolution\n",
    "CCN_all = pd.read_csv(os.path.join(obs_dir, 'CCN_all.csv'), parse_dates=['datetime','start_time','end_time'])  # observed CCN data (contains CCN-obs Window information (start and end time), 2hr resolution)"
   ]
  },
  {
   "cell_type": "code",
   "execution_count": 3,
   "id": "ea2bd0a6",
   "metadata": {},
   "outputs": [],
   "source": [
    "# function to calculate the median absolute deviation (MAD):\n",
    "\n",
    "def mad(series):\n",
    "    mad = np.median(np.abs(series - series.median()))\n",
    "    return max(mad, 0.01)  # ensure MAD is not zero"
   ]
  },
  {
   "cell_type": "code",
   "execution_count": 14,
   "id": "e0e2aab7",
   "metadata": {},
   "outputs": [],
   "source": [
    "#re-calculate median bimodal parameters for each 2 hr window, with scaled number concentration:\n",
    "\n",
    "NSD_params = NSD_params_all.copy(deep=True)\n",
    "\n",
    "tw_start = CCN_all.loc[CCN_all['datetime']>= '2016-08-16 00:00:00'].reset_index(drop=True)['start_time'] # time window start\n",
    "tw_end = CCN_all.loc[CCN_all['datetime']>= '2016-08-16 00:00:00'].reset_index(drop=True)['end_time'] # time window end\n",
    "tw_mid = CCN_all.loc[CCN_all['datetime']>= '2016-08-16 00:00:00'].reset_index(drop=True)['datetime'] # time window mid\n",
    "window_idx = 0\n",
    "\n",
    "# create mask which identifies which time window parameters belong to:\n",
    "for i in range(len(tw_start)):\n",
    "    mask = (\n",
    "        (NSD_params['datetime'] >= tw_start[i]) &\n",
    "        (NSD_params['datetime'] < tw_end[i])         \n",
    "    )\n",
    "    \n",
    "    if mask.any():\n",
    "        NSD_params.loc[mask, 'CCN_window'] = window_idx # index of the time window, used for grouping\n",
    "        NSD_params.loc[mask, 'datetime'] = tw_mid[i] # assign the mid-point of the time window to the datetime column\n",
    "        window_idx += 1\n",
    "\n",
    "# drop rows with NaN in CCN_window column (no data in that time window):\n",
    "NSD_params = NSD_params.dropna(subset=['CCN_window'])\n",
    "\n",
    "# drop where the datetime does not match original datetimes in bimodal_params:\n",
    "NSD_params = NSD_params[NSD_params['datetime'].isin(pd.to_datetime(bimodal_params['datetime']))].reset_index(drop=True)\n",
    "\n",
    "# THERE IS ONE OBS WINDOW WHERE THE NSD PARAMETERS ARE VERY STRANGE AND RESULT IN UNREALISTIC MASS VALUES:\n",
    "# here we filter these out:\n",
    "NSD_params = NSD_params[~((NSD_params['CCN_window'] == 8564.0) & (NSD_params['mode2_d']>100))]\n",
    "\n",
    "# Take median of parameters within each time window:\n",
    "NSD_params_medians = NSD_params.groupby('CCN_window').median().copy(deep=True).reset_index(drop=True) # take median of parameters within each time window\n",
    "NSD_params_mads = NSD_params.groupby('CCN_window').apply(lambda x: x.select_dtypes(include='number').agg(mad), include_groups=False).copy(deep=True).reset_index(drop=True)  # take median absolute deviation of parameters within each time window\n",
    "NSD_params_mads = NSD_params_mads.rename(columns=lambda x: x + '_mad')  # rename columns to indicate MAD\n",
    "\n",
    "# merge median and MAD dataframes:\n",
    "NSD_params_windows = pd.concat([NSD_params_medians, NSD_params_mads], axis=1)\n",
    "\n",
    "# add column for number of measurements in each time window:\n",
    "NSD_params_windows['n_measurements'] = NSD_params.groupby('CCN_window')['mode1_d'].count().reset_index(drop=True)\n",
    "\n",
    "# additional dfs for max/min/median abs. dev. in each time window:\n",
    "NSD_params_maxs = NSD_params.groupby('CCN_window').max().copy(deep=True).reset_index(drop=True)\n",
    "NSD_params_maxs['n_measurements'] = NSD_params.groupby('CCN_window')['mode1_d'].count().reset_index(drop=True)\n",
    "\n",
    "NSD_params_mins = NSD_params.groupby('CCN_window').min().copy(deep=True).reset_index(drop=True)\n",
    "NSD_params_mins['n_measurements'] = NSD_params.groupby('CCN_window')['mode1_d'].count().reset_index(drop=True)\n",
    "\n",
    "# create a unique ID for each time window for original dataset:\n",
    "NSD_params['window_id'] = pd.factorize(NSD_params['CCN_window'])[0]  "
   ]
  },
  {
   "cell_type": "code",
   "execution_count": 17,
   "id": "beeb089e",
   "metadata": {},
   "outputs": [],
   "source": [
    "# save to CSV:\n",
    "NSD_params_windows.to_csv(os.path.join(obs_dir, 'bimodal_params_medians.csv')) \n",
    "NSD_params_maxs.to_csv(os.path.join(obs_dir, 'bimodal_params_maxs.csv'))\n",
    "NSD_params_mins.to_csv(os.path.join(obs_dir, 'bimodal_params_mins.csv'))\n",
    "\n",
    "NSD_params.to_csv(os.path.join(obs_dir, 'NSD_params_withwindows.csv'))  "
   ]
  },
  {
   "cell_type": "code",
   "execution_count": null,
   "id": "2974a308",
   "metadata": {},
   "outputs": [],
   "source": []
  }
 ],
 "metadata": {
  "kernelspec": {
   "display_name": "Python 3",
   "language": "python",
   "name": "python3"
  },
  "language_info": {
   "codemirror_mode": {
    "name": "ipython",
    "version": 3
   },
   "file_extension": ".py",
   "mimetype": "text/x-python",
   "name": "python",
   "nbconvert_exporter": "python",
   "pygments_lexer": "ipython3",
   "version": "3.9.22"
  }
 },
 "nbformat": 4,
 "nbformat_minor": 5
}
